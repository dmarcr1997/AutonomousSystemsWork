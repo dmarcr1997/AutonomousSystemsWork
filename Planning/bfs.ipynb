{
 "cells": [
  {
   "cell_type": "markdown",
   "metadata": {},
   "source": [
    "# Breadth-First Search"
   ]
  },
  {
   "cell_type": "code",
   "execution_count": 12,
   "metadata": {},
   "outputs": [],
   "source": [
    "import numpy as np\n",
    "from queue import Queue\n",
    "from enum import Enum\n",
    "\n",
    "class Action(Enum):\n",
    "    LEFT = (0, -1)\n",
    "    RIGHT = (0, 1)\n",
    "    UP = (-1, 0)\n",
    "    DOWN = (1, 0)\n",
    "\n",
    "    def __str__(self):\n",
    "        if self == self.LEFT:\n",
    "            return '<'\n",
    "        elif self == self.RIGHT:\n",
    "            return '>'\n",
    "        elif self == self.UP:\n",
    "            return '^'\n",
    "        elif self == self.DOWN:\n",
    "            return 'v'"
   ]
  },
  {
   "cell_type": "code",
   "execution_count": 4,
   "metadata": {},
   "outputs": [],
   "source": [
    "\n",
    "#Create grid space \n",
    "grid = np.array([\n",
    "    [0, 1, 0, 0, 0, 0],\n",
    "    [0, 1, 0, 0, 0, 0],\n",
    "    [0, 1, 0, 1, 0, 0],\n",
    "    [0, 0, 0, 1, 1, 0],\n",
    "    [0, 0, 0, 1, 0, 0],\n",
    "])"
   ]
  },
  {
   "cell_type": "code",
   "execution_count": 6,
   "metadata": {},
   "outputs": [],
   "source": [
    "#Set start and goal locations\n",
    "start = (1, 0)\n",
    "goal = (1, 4)"
   ]
  },
  {
   "cell_type": "code",
   "execution_count": 17,
   "metadata": {},
   "outputs": [],
   "source": [
    "plan_queue = Queue()\n",
    "plan_queue.put(start)\n",
    "visited = set()\n",
    "visited.add(start)\n",
    "plan_steps = {}"
   ]
  },
  {
   "cell_type": "code",
   "execution_count": 18,
   "metadata": {},
   "outputs": [],
   "source": [
    "# Starting BFS\n",
    "current_node = start\n",
    "valid = [Action.UP, Action.RIGHT, Action.DOWN]\n",
    "for action in valid:\n",
    "    action_cost = action.value\n",
    "    next_node = ( current_node[0] + action_cost[0], current_node[1] + action_cost[1] )\n",
    "    if next_node not in visited:\n",
    "        visited.add(next_node)\n",
    "        plan_queue.put(next_node)\n",
    "        plan_steps[next_node] = {current_node, action}"
   ]
  },
  {
   "cell_type": "code",
   "execution_count": 21,
   "metadata": {},
   "outputs": [
    {
     "ename": "KeyError",
     "evalue": "(1, 4)",
     "output_type": "error",
     "traceback": [
      "\u001b[1;31m---------------------------------------------------------------------------\u001b[0m",
      "\u001b[1;31mKeyError\u001b[0m                                  Traceback (most recent call last)",
      "Cell \u001b[1;32mIn[21], line 5\u001b[0m\n\u001b[0;32m      2\u001b[0m path \u001b[38;5;241m=\u001b[39m []\n\u001b[0;32m      3\u001b[0m n \u001b[38;5;241m=\u001b[39m goal\n\u001b[1;32m----> 5\u001b[0m \u001b[38;5;28;01mwhile\u001b[39;00m \u001b[43mplan_steps\u001b[49m\u001b[43m[\u001b[49m\u001b[43mn\u001b[49m\u001b[43m]\u001b[49m[\u001b[38;5;241m0\u001b[39m] \u001b[38;5;241m!=\u001b[39m start:\n\u001b[0;32m      6\u001b[0m     path\u001b[38;5;241m.\u001b[39mappend(plan_steps[n][\u001b[38;5;241m1\u001b[39m])\n\u001b[0;32m      7\u001b[0m     n \u001b[38;5;241m=\u001b[39m plan_steps[n][\u001b[38;5;241m0\u001b[39m]\n",
      "\u001b[1;31mKeyError\u001b[0m: (1, 4)"
     ]
    }
   ],
   "source": [
    "#Walk through plan_steps to get path to goal\n",
    "path = []\n",
    "n = goal\n",
    "\n",
    "while plan_steps[n][0] != start:\n",
    "    path.append(plan_steps[n][1])\n",
    "    n = plan_steps[n][0]\n",
    "    \n",
    "path.append(plan_steps[n][1])\n",
    "path = path[::-1]"
   ]
  },
  {
   "cell_type": "code",
   "execution_count": null,
   "metadata": {},
   "outputs": [],
   "source": []
  }
 ],
 "metadata": {
  "kernelspec": {
   "display_name": "Python 3",
   "language": "python",
   "name": "python3"
  },
  "language_info": {
   "codemirror_mode": {
    "name": "ipython",
    "version": 3
   },
   "file_extension": ".py",
   "mimetype": "text/x-python",
   "name": "python",
   "nbconvert_exporter": "python",
   "pygments_lexer": "ipython3",
   "version": "3.11.5"
  }
 },
 "nbformat": 4,
 "nbformat_minor": 2
}
